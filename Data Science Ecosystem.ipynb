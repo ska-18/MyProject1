{
 "cells": [
  {
   "cell_type": "markdown",
   "id": "cd4aebd9",
   "metadata": {},
   "source": [
    "# Data Science Tools and Ecosystem"
   ]
  },
  {
   "cell_type": "markdown",
   "id": "b27ae495",
   "metadata": {},
   "source": [
    "In this notebook, Data Science Tools and Ecosystem are summarized."
   ]
  },
  {
   "cell_type": "markdown",
   "id": "11d8e68d",
   "metadata": {},
   "source": [
    "Objectives:\n",
    "   * List popular languages for Data Science\n",
    "   * Commonly used libraries used by Data Scientists \n",
    "   * Data Science Tools\n",
    "   * Sharing of notebook through GitHub"
   ]
  },
  {
   "cell_type": "markdown",
   "id": "f7d028ab",
   "metadata": {},
   "source": [
    "Some of the popular languages that Data Scientists use are:\n",
    "   1. Python\n",
    "   2. Julia\n",
    "   3. R\n",
    "   4. SQL\n",
    "   5. C++\n",
    "   6. java"
   ]
  },
  {
   "cell_type": "markdown",
   "id": "8c31b216",
   "metadata": {},
   "source": [
    "Some of the commonly used libraries used by Data Scientists include:\n",
    "   1. Pandas\n",
    "   2. Numpy\n",
    "   3. Keras\n",
    "   4. TensorFlow"
   ]
  },
  {
   "cell_type": "markdown",
   "id": "3d6d2d49",
   "metadata": {},
   "source": [
    "|Data Science Tools|\n",
    "--------------------\n",
    "R Studio\n",
    "Apache Hadoop\n",
    "Apache Spark\n",
    "TensorFlow"
   ]
  },
  {
   "cell_type": "markdown",
   "id": "d9b2064d",
   "metadata": {},
   "source": [
    "Below are a few examples of evaluating arithmetic expressions in Python"
   ]
  },
  {
   "cell_type": "code",
   "execution_count": 1,
   "id": "0b22b6fa",
   "metadata": {},
   "outputs": [
    {
     "data": {
      "text/plain": [
       "17"
      ]
     },
     "execution_count": 1,
     "metadata": {},
     "output_type": "execute_result"
    }
   ],
   "source": [
    "#This a simple arithmetic expression to mutiply then add integers\n",
    "(3*4)+5"
   ]
  },
  {
   "cell_type": "code",
   "execution_count": 2,
   "id": "9e14224a",
   "metadata": {},
   "outputs": [
    {
     "data": {
      "text/plain": [
       "3.3333333333333335"
      ]
     },
     "execution_count": 2,
     "metadata": {},
     "output_type": "execute_result"
    }
   ],
   "source": [
    "#This will convert 200 minutes to hours by diving by 60.\n",
    "(200/60)"
   ]
  },
  {
   "cell_type": "markdown",
   "id": "c6ced4d0",
   "metadata": {},
   "source": [
    "## Author\n",
    "Sarthak Agarwal"
   ]
  },
  {
   "cell_type": "code",
   "execution_count": null,
   "id": "e1de86a0",
   "metadata": {},
   "outputs": [],
   "source": []
  }
 ],
 "metadata": {
  "kernelspec": {
   "display_name": "Python 3",
   "language": "python",
   "name": "python3"
  },
  "language_info": {
   "codemirror_mode": {
    "name": "ipython",
    "version": 3
   },
   "file_extension": ".py",
   "mimetype": "text/x-python",
   "name": "python",
   "nbconvert_exporter": "python",
   "pygments_lexer": "ipython3",
   "version": "3.8.8"
  }
 },
 "nbformat": 4,
 "nbformat_minor": 5
}
